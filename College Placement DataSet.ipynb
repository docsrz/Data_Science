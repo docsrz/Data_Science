{
 "cells": [
  {
   "cell_type": "code",
   "execution_count": 1,
   "id": "c6e1ca05",
   "metadata": {},
   "outputs": [],
   "source": [
    "# Import the Library"
   ]
  },
  {
   "cell_type": "code",
   "execution_count": 2,
   "id": "1985ea0b",
   "metadata": {},
   "outputs": [],
   "source": [
    "import pandas as pd\n",
    "import numpy as np\n",
    "\n",
    "import matplotlib.pyplot as plt\n",
    "import seaborn as sns\n",
    "%matplotlib inline\n",
    "\n",
    "import warnings\n",
    "warnings.filterwarnings('ignore')"
   ]
  },
  {
   "cell_type": "code",
   "execution_count": 3,
   "id": "b096ca9a",
   "metadata": {},
   "outputs": [],
   "source": [
    "# Read the Data"
   ]
  },
  {
   "cell_type": "code",
   "execution_count": 4,
   "id": "4a1d60ab",
   "metadata": {},
   "outputs": [],
   "source": [
    "df=pd.read_csv(r\"C:\\Users\\acer\\OneDrive\\Desktop\\Suraj\\DATA SCIENCE\\Tabular playground Series\\Placement_Data_Full_Class.csv\")"
   ]
  },
  {
   "cell_type": "code",
   "execution_count": 5,
   "id": "84a7d52f",
   "metadata": {},
   "outputs": [
    {
     "data": {
      "text/html": [
       "<div>\n",
       "<style scoped>\n",
       "    .dataframe tbody tr th:only-of-type {\n",
       "        vertical-align: middle;\n",
       "    }\n",
       "\n",
       "    .dataframe tbody tr th {\n",
       "        vertical-align: top;\n",
       "    }\n",
       "\n",
       "    .dataframe thead th {\n",
       "        text-align: right;\n",
       "    }\n",
       "</style>\n",
       "<table border=\"1\" class=\"dataframe\">\n",
       "  <thead>\n",
       "    <tr style=\"text-align: right;\">\n",
       "      <th></th>\n",
       "      <th>Sno</th>\n",
       "      <th>Gender</th>\n",
       "      <th>10th %</th>\n",
       "      <th>SSC Board</th>\n",
       "      <th>12th %</th>\n",
       "      <th>HSC Board</th>\n",
       "      <th>12th Stream</th>\n",
       "      <th>Degree %</th>\n",
       "      <th>Degree stream</th>\n",
       "      <th>Work exp</th>\n",
       "      <th>specialisation</th>\n",
       "      <th>Mba %</th>\n",
       "      <th>status</th>\n",
       "      <th>salary</th>\n",
       "    </tr>\n",
       "  </thead>\n",
       "  <tbody>\n",
       "    <tr>\n",
       "      <th>0</th>\n",
       "      <td>1</td>\n",
       "      <td>M</td>\n",
       "      <td>67.00</td>\n",
       "      <td>Others</td>\n",
       "      <td>91.00</td>\n",
       "      <td>Others</td>\n",
       "      <td>Commerce</td>\n",
       "      <td>58.00</td>\n",
       "      <td>Sci&amp;Tech</td>\n",
       "      <td>No</td>\n",
       "      <td>Mkt&amp;HR</td>\n",
       "      <td>58.80</td>\n",
       "      <td>Placed</td>\n",
       "      <td>270000.0</td>\n",
       "    </tr>\n",
       "    <tr>\n",
       "      <th>1</th>\n",
       "      <td>2</td>\n",
       "      <td>M</td>\n",
       "      <td>79.33</td>\n",
       "      <td>Central</td>\n",
       "      <td>78.33</td>\n",
       "      <td>Others</td>\n",
       "      <td>Science</td>\n",
       "      <td>77.48</td>\n",
       "      <td>Sci&amp;Tech</td>\n",
       "      <td>Yes</td>\n",
       "      <td>Mkt&amp;Fin</td>\n",
       "      <td>66.28</td>\n",
       "      <td>Placed</td>\n",
       "      <td>200000.0</td>\n",
       "    </tr>\n",
       "    <tr>\n",
       "      <th>2</th>\n",
       "      <td>3</td>\n",
       "      <td>M</td>\n",
       "      <td>65.00</td>\n",
       "      <td>Central</td>\n",
       "      <td>68.00</td>\n",
       "      <td>Central</td>\n",
       "      <td>Arts</td>\n",
       "      <td>64.00</td>\n",
       "      <td>Comm&amp;Mgmt</td>\n",
       "      <td>No</td>\n",
       "      <td>Mkt&amp;Fin</td>\n",
       "      <td>57.80</td>\n",
       "      <td>Placed</td>\n",
       "      <td>250000.0</td>\n",
       "    </tr>\n",
       "    <tr>\n",
       "      <th>3</th>\n",
       "      <td>4</td>\n",
       "      <td>M</td>\n",
       "      <td>56.00</td>\n",
       "      <td>Central</td>\n",
       "      <td>52.00</td>\n",
       "      <td>Central</td>\n",
       "      <td>Science</td>\n",
       "      <td>52.00</td>\n",
       "      <td>Sci&amp;Tech</td>\n",
       "      <td>No</td>\n",
       "      <td>Mkt&amp;HR</td>\n",
       "      <td>59.43</td>\n",
       "      <td>Not Placed</td>\n",
       "      <td>NaN</td>\n",
       "    </tr>\n",
       "    <tr>\n",
       "      <th>4</th>\n",
       "      <td>5</td>\n",
       "      <td>M</td>\n",
       "      <td>85.80</td>\n",
       "      <td>Central</td>\n",
       "      <td>73.60</td>\n",
       "      <td>Central</td>\n",
       "      <td>Commerce</td>\n",
       "      <td>73.30</td>\n",
       "      <td>Comm&amp;Mgmt</td>\n",
       "      <td>No</td>\n",
       "      <td>Mkt&amp;Fin</td>\n",
       "      <td>55.50</td>\n",
       "      <td>Placed</td>\n",
       "      <td>425000.0</td>\n",
       "    </tr>\n",
       "  </tbody>\n",
       "</table>\n",
       "</div>"
      ],
      "text/plain": [
       "   Sno Gender  10th % SSC Board  12th % HSC Board 12th Stream  Degree %  \\\n",
       "0    1      M   67.00    Others   91.00    Others    Commerce     58.00   \n",
       "1    2      M   79.33   Central   78.33    Others     Science     77.48   \n",
       "2    3      M   65.00   Central   68.00   Central        Arts     64.00   \n",
       "3    4      M   56.00   Central   52.00   Central     Science     52.00   \n",
       "4    5      M   85.80   Central   73.60   Central    Commerce     73.30   \n",
       "\n",
       "  Degree stream Work exp specialisation  Mba %      status    salary  \n",
       "0      Sci&Tech       No         Mkt&HR  58.80      Placed  270000.0  \n",
       "1      Sci&Tech      Yes        Mkt&Fin  66.28      Placed  200000.0  \n",
       "2     Comm&Mgmt       No        Mkt&Fin  57.80      Placed  250000.0  \n",
       "3      Sci&Tech       No         Mkt&HR  59.43  Not Placed       NaN  \n",
       "4     Comm&Mgmt       No        Mkt&Fin  55.50      Placed  425000.0  "
      ]
     },
     "execution_count": 5,
     "metadata": {},
     "output_type": "execute_result"
    }
   ],
   "source": [
    "df.head()"
   ]
  },
  {
   "cell_type": "code",
   "execution_count": 6,
   "id": "4bc1ee32",
   "metadata": {},
   "outputs": [
    {
     "data": {
      "text/html": [
       "<div>\n",
       "<style scoped>\n",
       "    .dataframe tbody tr th:only-of-type {\n",
       "        vertical-align: middle;\n",
       "    }\n",
       "\n",
       "    .dataframe tbody tr th {\n",
       "        vertical-align: top;\n",
       "    }\n",
       "\n",
       "    .dataframe thead th {\n",
       "        text-align: right;\n",
       "    }\n",
       "</style>\n",
       "<table border=\"1\" class=\"dataframe\">\n",
       "  <thead>\n",
       "    <tr style=\"text-align: right;\">\n",
       "      <th></th>\n",
       "      <th>Sno</th>\n",
       "      <th>Gender</th>\n",
       "      <th>10th %</th>\n",
       "      <th>SSC Board</th>\n",
       "      <th>12th %</th>\n",
       "      <th>HSC Board</th>\n",
       "      <th>12th Stream</th>\n",
       "      <th>Degree %</th>\n",
       "      <th>Degree stream</th>\n",
       "      <th>Work exp</th>\n",
       "      <th>specialisation</th>\n",
       "      <th>Mba %</th>\n",
       "      <th>status</th>\n",
       "      <th>salary</th>\n",
       "    </tr>\n",
       "  </thead>\n",
       "  <tbody>\n",
       "    <tr>\n",
       "      <th>210</th>\n",
       "      <td>211</td>\n",
       "      <td>M</td>\n",
       "      <td>80.6</td>\n",
       "      <td>Others</td>\n",
       "      <td>82.0</td>\n",
       "      <td>Others</td>\n",
       "      <td>Commerce</td>\n",
       "      <td>77.6</td>\n",
       "      <td>Comm&amp;Mgmt</td>\n",
       "      <td>No</td>\n",
       "      <td>Mkt&amp;Fin</td>\n",
       "      <td>74.49</td>\n",
       "      <td>Placed</td>\n",
       "      <td>400000.0</td>\n",
       "    </tr>\n",
       "    <tr>\n",
       "      <th>211</th>\n",
       "      <td>212</td>\n",
       "      <td>M</td>\n",
       "      <td>58.0</td>\n",
       "      <td>Others</td>\n",
       "      <td>60.0</td>\n",
       "      <td>Others</td>\n",
       "      <td>Science</td>\n",
       "      <td>72.0</td>\n",
       "      <td>Sci&amp;Tech</td>\n",
       "      <td>No</td>\n",
       "      <td>Mkt&amp;Fin</td>\n",
       "      <td>53.62</td>\n",
       "      <td>Placed</td>\n",
       "      <td>275000.0</td>\n",
       "    </tr>\n",
       "    <tr>\n",
       "      <th>212</th>\n",
       "      <td>213</td>\n",
       "      <td>M</td>\n",
       "      <td>67.0</td>\n",
       "      <td>Others</td>\n",
       "      <td>67.0</td>\n",
       "      <td>Others</td>\n",
       "      <td>Commerce</td>\n",
       "      <td>73.0</td>\n",
       "      <td>Comm&amp;Mgmt</td>\n",
       "      <td>Yes</td>\n",
       "      <td>Mkt&amp;Fin</td>\n",
       "      <td>69.72</td>\n",
       "      <td>Placed</td>\n",
       "      <td>295000.0</td>\n",
       "    </tr>\n",
       "    <tr>\n",
       "      <th>213</th>\n",
       "      <td>214</td>\n",
       "      <td>F</td>\n",
       "      <td>74.0</td>\n",
       "      <td>Others</td>\n",
       "      <td>66.0</td>\n",
       "      <td>Others</td>\n",
       "      <td>Commerce</td>\n",
       "      <td>58.0</td>\n",
       "      <td>Comm&amp;Mgmt</td>\n",
       "      <td>No</td>\n",
       "      <td>Mkt&amp;HR</td>\n",
       "      <td>60.23</td>\n",
       "      <td>Placed</td>\n",
       "      <td>204000.0</td>\n",
       "    </tr>\n",
       "    <tr>\n",
       "      <th>214</th>\n",
       "      <td>215</td>\n",
       "      <td>M</td>\n",
       "      <td>62.0</td>\n",
       "      <td>Central</td>\n",
       "      <td>58.0</td>\n",
       "      <td>Others</td>\n",
       "      <td>Science</td>\n",
       "      <td>53.0</td>\n",
       "      <td>Comm&amp;Mgmt</td>\n",
       "      <td>No</td>\n",
       "      <td>Mkt&amp;HR</td>\n",
       "      <td>60.22</td>\n",
       "      <td>Not Placed</td>\n",
       "      <td>NaN</td>\n",
       "    </tr>\n",
       "  </tbody>\n",
       "</table>\n",
       "</div>"
      ],
      "text/plain": [
       "     Sno Gender  10th % SSC Board  12th % HSC Board 12th Stream  Degree %  \\\n",
       "210  211      M    80.6    Others    82.0    Others    Commerce      77.6   \n",
       "211  212      M    58.0    Others    60.0    Others     Science      72.0   \n",
       "212  213      M    67.0    Others    67.0    Others    Commerce      73.0   \n",
       "213  214      F    74.0    Others    66.0    Others    Commerce      58.0   \n",
       "214  215      M    62.0   Central    58.0    Others     Science      53.0   \n",
       "\n",
       "    Degree stream Work exp specialisation  Mba %      status    salary  \n",
       "210     Comm&Mgmt       No        Mkt&Fin  74.49      Placed  400000.0  \n",
       "211      Sci&Tech       No        Mkt&Fin  53.62      Placed  275000.0  \n",
       "212     Comm&Mgmt      Yes        Mkt&Fin  69.72      Placed  295000.0  \n",
       "213     Comm&Mgmt       No         Mkt&HR  60.23      Placed  204000.0  \n",
       "214     Comm&Mgmt       No         Mkt&HR  60.22  Not Placed       NaN  "
      ]
     },
     "execution_count": 6,
     "metadata": {},
     "output_type": "execute_result"
    }
   ],
   "source": [
    "df.tail()"
   ]
  },
  {
   "cell_type": "code",
   "execution_count": 7,
   "id": "afd8221b",
   "metadata": {},
   "outputs": [
    {
     "name": "stdout",
     "output_type": "stream",
     "text": [
      "<class 'pandas.core.frame.DataFrame'>\n",
      "RangeIndex: 215 entries, 0 to 214\n",
      "Data columns (total 14 columns):\n",
      " #   Column          Non-Null Count  Dtype  \n",
      "---  ------          --------------  -----  \n",
      " 0   Sno             215 non-null    int64  \n",
      " 1   Gender          215 non-null    object \n",
      " 2   10th %          215 non-null    float64\n",
      " 3   SSC Board       215 non-null    object \n",
      " 4   12th %          215 non-null    float64\n",
      " 5   HSC Board       215 non-null    object \n",
      " 6   12th Stream     215 non-null    object \n",
      " 7   Degree %        215 non-null    float64\n",
      " 8   Degree stream   215 non-null    object \n",
      " 9   Work exp        215 non-null    object \n",
      " 10  specialisation  215 non-null    object \n",
      " 11  Mba %           215 non-null    float64\n",
      " 12  status          215 non-null    object \n",
      " 13  salary          148 non-null    float64\n",
      "dtypes: float64(5), int64(1), object(8)\n",
      "memory usage: 23.6+ KB\n"
     ]
    }
   ],
   "source": [
    "df.info()"
   ]
  },
  {
   "cell_type": "code",
   "execution_count": 8,
   "id": "c3ba2cc6",
   "metadata": {},
   "outputs": [
    {
     "data": {
      "text/plain": [
       "(215, 14)"
      ]
     },
     "execution_count": 8,
     "metadata": {},
     "output_type": "execute_result"
    }
   ],
   "source": [
    "df.shape"
   ]
  },
  {
   "cell_type": "code",
   "execution_count": 9,
   "id": "e329c631",
   "metadata": {},
   "outputs": [
    {
     "data": {
      "text/plain": [
       "Index(['Sno', 'Gender', '10th %', 'SSC Board', '12th %', 'HSC Board',\n",
       "       '12th Stream', 'Degree %', 'Degree stream', 'Work exp',\n",
       "       'specialisation', 'Mba %', 'status', 'salary'],\n",
       "      dtype='object')"
      ]
     },
     "execution_count": 9,
     "metadata": {},
     "output_type": "execute_result"
    }
   ],
   "source": [
    "df.columns"
   ]
  },
  {
   "cell_type": "code",
   "execution_count": 10,
   "id": "c272c8fa",
   "metadata": {},
   "outputs": [
    {
     "data": {
      "text/html": [
       "<div>\n",
       "<style scoped>\n",
       "    .dataframe tbody tr th:only-of-type {\n",
       "        vertical-align: middle;\n",
       "    }\n",
       "\n",
       "    .dataframe tbody tr th {\n",
       "        vertical-align: top;\n",
       "    }\n",
       "\n",
       "    .dataframe thead th {\n",
       "        text-align: right;\n",
       "    }\n",
       "</style>\n",
       "<table border=\"1\" class=\"dataframe\">\n",
       "  <thead>\n",
       "    <tr style=\"text-align: right;\">\n",
       "      <th></th>\n",
       "      <th>count</th>\n",
       "      <th>mean</th>\n",
       "      <th>std</th>\n",
       "      <th>min</th>\n",
       "      <th>25%</th>\n",
       "      <th>50%</th>\n",
       "      <th>75%</th>\n",
       "      <th>max</th>\n",
       "    </tr>\n",
       "  </thead>\n",
       "  <tbody>\n",
       "    <tr>\n",
       "      <th>Sno</th>\n",
       "      <td>215.0</td>\n",
       "      <td>108.000000</td>\n",
       "      <td>62.209324</td>\n",
       "      <td>1.00</td>\n",
       "      <td>54.500</td>\n",
       "      <td>108.0</td>\n",
       "      <td>161.500</td>\n",
       "      <td>215.00</td>\n",
       "    </tr>\n",
       "    <tr>\n",
       "      <th>10th %</th>\n",
       "      <td>215.0</td>\n",
       "      <td>67.303395</td>\n",
       "      <td>10.827205</td>\n",
       "      <td>40.89</td>\n",
       "      <td>60.600</td>\n",
       "      <td>67.0</td>\n",
       "      <td>75.700</td>\n",
       "      <td>89.40</td>\n",
       "    </tr>\n",
       "    <tr>\n",
       "      <th>12th %</th>\n",
       "      <td>215.0</td>\n",
       "      <td>66.333163</td>\n",
       "      <td>10.897509</td>\n",
       "      <td>37.00</td>\n",
       "      <td>60.900</td>\n",
       "      <td>65.0</td>\n",
       "      <td>73.000</td>\n",
       "      <td>97.70</td>\n",
       "    </tr>\n",
       "    <tr>\n",
       "      <th>Degree %</th>\n",
       "      <td>215.0</td>\n",
       "      <td>66.370186</td>\n",
       "      <td>7.358743</td>\n",
       "      <td>50.00</td>\n",
       "      <td>61.000</td>\n",
       "      <td>66.0</td>\n",
       "      <td>72.000</td>\n",
       "      <td>91.00</td>\n",
       "    </tr>\n",
       "    <tr>\n",
       "      <th>Mba %</th>\n",
       "      <td>215.0</td>\n",
       "      <td>62.278186</td>\n",
       "      <td>5.833385</td>\n",
       "      <td>51.21</td>\n",
       "      <td>57.945</td>\n",
       "      <td>62.0</td>\n",
       "      <td>66.255</td>\n",
       "      <td>77.89</td>\n",
       "    </tr>\n",
       "    <tr>\n",
       "      <th>salary</th>\n",
       "      <td>148.0</td>\n",
       "      <td>288655.405405</td>\n",
       "      <td>93457.452420</td>\n",
       "      <td>200000.00</td>\n",
       "      <td>240000.000</td>\n",
       "      <td>265000.0</td>\n",
       "      <td>300000.000</td>\n",
       "      <td>940000.00</td>\n",
       "    </tr>\n",
       "  </tbody>\n",
       "</table>\n",
       "</div>"
      ],
      "text/plain": [
       "          count           mean           std        min         25%       50%  \\\n",
       "Sno       215.0     108.000000     62.209324       1.00      54.500     108.0   \n",
       "10th %    215.0      67.303395     10.827205      40.89      60.600      67.0   \n",
       "12th %    215.0      66.333163     10.897509      37.00      60.900      65.0   \n",
       "Degree %  215.0      66.370186      7.358743      50.00      61.000      66.0   \n",
       "Mba %     215.0      62.278186      5.833385      51.21      57.945      62.0   \n",
       "salary    148.0  288655.405405  93457.452420  200000.00  240000.000  265000.0   \n",
       "\n",
       "                 75%        max  \n",
       "Sno          161.500     215.00  \n",
       "10th %        75.700      89.40  \n",
       "12th %        73.000      97.70  \n",
       "Degree %      72.000      91.00  \n",
       "Mba %         66.255      77.89  \n",
       "salary    300000.000  940000.00  "
      ]
     },
     "execution_count": 10,
     "metadata": {},
     "output_type": "execute_result"
    }
   ],
   "source": [
    "df.describe().T"
   ]
  },
  {
   "cell_type": "code",
   "execution_count": 11,
   "id": "eb22770b",
   "metadata": {},
   "outputs": [],
   "source": [
    "# EDA"
   ]
  },
  {
   "cell_type": "code",
   "execution_count": 12,
   "id": "b8c20fd2",
   "metadata": {},
   "outputs": [
    {
     "data": {
      "text/plain": [
       "Sno                0\n",
       "Gender             0\n",
       "10th %             0\n",
       "SSC Board          0\n",
       "12th %             0\n",
       "HSC Board          0\n",
       "12th Stream        0\n",
       "Degree %           0\n",
       "Degree stream      0\n",
       "Work exp           0\n",
       "specialisation     0\n",
       "Mba %              0\n",
       "status             0\n",
       "salary            67\n",
       "dtype: int64"
      ]
     },
     "execution_count": 12,
     "metadata": {},
     "output_type": "execute_result"
    }
   ],
   "source": [
    "df.isnull().sum()"
   ]
  },
  {
   "cell_type": "code",
   "execution_count": 13,
   "id": "769bc49e",
   "metadata": {},
   "outputs": [
    {
     "data": {
      "text/plain": [
       "Sno                0.00\n",
       "Gender             0.00\n",
       "10th %             0.00\n",
       "SSC Board          0.00\n",
       "12th %             0.00\n",
       "HSC Board          0.00\n",
       "12th Stream        0.00\n",
       "Degree %           0.00\n",
       "Degree stream      0.00\n",
       "Work exp           0.00\n",
       "specialisation     0.00\n",
       "Mba %              0.00\n",
       "status             0.00\n",
       "salary            31.16\n",
       "dtype: float64"
      ]
     },
     "execution_count": 13,
     "metadata": {},
     "output_type": "execute_result"
    }
   ],
   "source": [
    "round(100*df.isnull().sum()/len(df.index),2)"
   ]
  },
  {
   "cell_type": "code",
   "execution_count": 14,
   "id": "acf32609",
   "metadata": {},
   "outputs": [],
   "source": [
    "df.dropna(axis=1,inplace=True)"
   ]
  },
  {
   "cell_type": "code",
   "execution_count": 15,
   "id": "1b68abea",
   "metadata": {},
   "outputs": [
    {
     "data": {
      "text/html": [
       "<div>\n",
       "<style scoped>\n",
       "    .dataframe tbody tr th:only-of-type {\n",
       "        vertical-align: middle;\n",
       "    }\n",
       "\n",
       "    .dataframe tbody tr th {\n",
       "        vertical-align: top;\n",
       "    }\n",
       "\n",
       "    .dataframe thead th {\n",
       "        text-align: right;\n",
       "    }\n",
       "</style>\n",
       "<table border=\"1\" class=\"dataframe\">\n",
       "  <thead>\n",
       "    <tr style=\"text-align: right;\">\n",
       "      <th></th>\n",
       "      <th>Sno</th>\n",
       "      <th>Gender</th>\n",
       "      <th>10th %</th>\n",
       "      <th>SSC Board</th>\n",
       "      <th>12th %</th>\n",
       "      <th>HSC Board</th>\n",
       "      <th>12th Stream</th>\n",
       "      <th>Degree %</th>\n",
       "      <th>Degree stream</th>\n",
       "      <th>Work exp</th>\n",
       "      <th>specialisation</th>\n",
       "      <th>Mba %</th>\n",
       "      <th>status</th>\n",
       "    </tr>\n",
       "  </thead>\n",
       "  <tbody>\n",
       "    <tr>\n",
       "      <th>0</th>\n",
       "      <td>1</td>\n",
       "      <td>M</td>\n",
       "      <td>67.00</td>\n",
       "      <td>Others</td>\n",
       "      <td>91.00</td>\n",
       "      <td>Others</td>\n",
       "      <td>Commerce</td>\n",
       "      <td>58.00</td>\n",
       "      <td>Sci&amp;Tech</td>\n",
       "      <td>No</td>\n",
       "      <td>Mkt&amp;HR</td>\n",
       "      <td>58.80</td>\n",
       "      <td>Placed</td>\n",
       "    </tr>\n",
       "    <tr>\n",
       "      <th>1</th>\n",
       "      <td>2</td>\n",
       "      <td>M</td>\n",
       "      <td>79.33</td>\n",
       "      <td>Central</td>\n",
       "      <td>78.33</td>\n",
       "      <td>Others</td>\n",
       "      <td>Science</td>\n",
       "      <td>77.48</td>\n",
       "      <td>Sci&amp;Tech</td>\n",
       "      <td>Yes</td>\n",
       "      <td>Mkt&amp;Fin</td>\n",
       "      <td>66.28</td>\n",
       "      <td>Placed</td>\n",
       "    </tr>\n",
       "    <tr>\n",
       "      <th>2</th>\n",
       "      <td>3</td>\n",
       "      <td>M</td>\n",
       "      <td>65.00</td>\n",
       "      <td>Central</td>\n",
       "      <td>68.00</td>\n",
       "      <td>Central</td>\n",
       "      <td>Arts</td>\n",
       "      <td>64.00</td>\n",
       "      <td>Comm&amp;Mgmt</td>\n",
       "      <td>No</td>\n",
       "      <td>Mkt&amp;Fin</td>\n",
       "      <td>57.80</td>\n",
       "      <td>Placed</td>\n",
       "    </tr>\n",
       "    <tr>\n",
       "      <th>3</th>\n",
       "      <td>4</td>\n",
       "      <td>M</td>\n",
       "      <td>56.00</td>\n",
       "      <td>Central</td>\n",
       "      <td>52.00</td>\n",
       "      <td>Central</td>\n",
       "      <td>Science</td>\n",
       "      <td>52.00</td>\n",
       "      <td>Sci&amp;Tech</td>\n",
       "      <td>No</td>\n",
       "      <td>Mkt&amp;HR</td>\n",
       "      <td>59.43</td>\n",
       "      <td>Not Placed</td>\n",
       "    </tr>\n",
       "    <tr>\n",
       "      <th>4</th>\n",
       "      <td>5</td>\n",
       "      <td>M</td>\n",
       "      <td>85.80</td>\n",
       "      <td>Central</td>\n",
       "      <td>73.60</td>\n",
       "      <td>Central</td>\n",
       "      <td>Commerce</td>\n",
       "      <td>73.30</td>\n",
       "      <td>Comm&amp;Mgmt</td>\n",
       "      <td>No</td>\n",
       "      <td>Mkt&amp;Fin</td>\n",
       "      <td>55.50</td>\n",
       "      <td>Placed</td>\n",
       "    </tr>\n",
       "  </tbody>\n",
       "</table>\n",
       "</div>"
      ],
      "text/plain": [
       "   Sno Gender  10th % SSC Board  12th % HSC Board 12th Stream  Degree %  \\\n",
       "0    1      M   67.00    Others   91.00    Others    Commerce     58.00   \n",
       "1    2      M   79.33   Central   78.33    Others     Science     77.48   \n",
       "2    3      M   65.00   Central   68.00   Central        Arts     64.00   \n",
       "3    4      M   56.00   Central   52.00   Central     Science     52.00   \n",
       "4    5      M   85.80   Central   73.60   Central    Commerce     73.30   \n",
       "\n",
       "  Degree stream Work exp specialisation  Mba %      status  \n",
       "0      Sci&Tech       No         Mkt&HR  58.80      Placed  \n",
       "1      Sci&Tech      Yes        Mkt&Fin  66.28      Placed  \n",
       "2     Comm&Mgmt       No        Mkt&Fin  57.80      Placed  \n",
       "3      Sci&Tech       No         Mkt&HR  59.43  Not Placed  \n",
       "4     Comm&Mgmt       No        Mkt&Fin  55.50      Placed  "
      ]
     },
     "execution_count": 15,
     "metadata": {},
     "output_type": "execute_result"
    }
   ],
   "source": [
    "df.head()"
   ]
  },
  {
   "cell_type": "code",
   "execution_count": 16,
   "id": "40d59820",
   "metadata": {},
   "outputs": [
    {
     "data": {
      "text/plain": [
       "(215, 13)"
      ]
     },
     "execution_count": 16,
     "metadata": {},
     "output_type": "execute_result"
    }
   ],
   "source": [
    "df.shape"
   ]
  },
  {
   "cell_type": "code",
   "execution_count": 17,
   "id": "746a76dc",
   "metadata": {},
   "outputs": [
    {
     "data": {
      "text/plain": [
       "Index(['Sno', 'Gender', '10th %', 'SSC Board', '12th %', 'HSC Board',\n",
       "       '12th Stream', 'Degree %', 'Degree stream', 'Work exp',\n",
       "       'specialisation', 'Mba %', 'status'],\n",
       "      dtype='object')"
      ]
     },
     "execution_count": 17,
     "metadata": {},
     "output_type": "execute_result"
    }
   ],
   "source": [
    "df.columns"
   ]
  },
  {
   "cell_type": "code",
   "execution_count": 18,
   "id": "8d3ab2d7",
   "metadata": {},
   "outputs": [
    {
     "data": {
      "text/plain": [
       "0"
      ]
     },
     "execution_count": 18,
     "metadata": {},
     "output_type": "execute_result"
    }
   ],
   "source": [
    "df.duplicated().sum()"
   ]
  },
  {
   "cell_type": "code",
   "execution_count": 19,
   "id": "f0039fb1",
   "metadata": {},
   "outputs": [
    {
     "data": {
      "text/plain": [
       "Sno               215\n",
       "Gender              2\n",
       "10th %            103\n",
       "SSC Board           2\n",
       "12th %             97\n",
       "HSC Board           2\n",
       "12th Stream         3\n",
       "Degree %           89\n",
       "Degree stream       3\n",
       "Work exp            2\n",
       "specialisation      2\n",
       "Mba %             205\n",
       "status              2\n",
       "dtype: int64"
      ]
     },
     "execution_count": 19,
     "metadata": {},
     "output_type": "execute_result"
    }
   ],
   "source": [
    "df.nunique()"
   ]
  },
  {
   "cell_type": "code",
   "execution_count": 20,
   "id": "fdf8043b",
   "metadata": {},
   "outputs": [
    {
     "data": {
      "text/plain": [
       "Sno                 int64\n",
       "Gender             object\n",
       "10th %            float64\n",
       "SSC Board          object\n",
       "12th %            float64\n",
       "HSC Board          object\n",
       "12th Stream        object\n",
       "Degree %          float64\n",
       "Degree stream      object\n",
       "Work exp           object\n",
       "specialisation     object\n",
       "Mba %             float64\n",
       "status             object\n",
       "dtype: object"
      ]
     },
     "execution_count": 20,
     "metadata": {},
     "output_type": "execute_result"
    }
   ],
   "source": [
    "df.dtypes"
   ]
  },
  {
   "cell_type": "code",
   "execution_count": 21,
   "id": "30f78a3c",
   "metadata": {},
   "outputs": [
    {
     "data": {
      "text/plain": [
       "M    139\n",
       "F     76\n",
       "Name: Gender, dtype: int64"
      ]
     },
     "execution_count": 21,
     "metadata": {},
     "output_type": "execute_result"
    }
   ],
   "source": [
    "df['Gender'].value_counts()"
   ]
  },
  {
   "cell_type": "code",
   "execution_count": 22,
   "id": "e7983dab",
   "metadata": {},
   "outputs": [],
   "source": [
    "df_pivot=pd.pivot_table(df,index='Gender',values=['10th %','12th %','Degree %','Mba %'],aggfunc='count')"
   ]
  },
  {
   "cell_type": "code",
   "execution_count": 23,
   "id": "d94ba237",
   "metadata": {},
   "outputs": [
    {
     "data": {
      "text/html": [
       "<div>\n",
       "<style scoped>\n",
       "    .dataframe tbody tr th:only-of-type {\n",
       "        vertical-align: middle;\n",
       "    }\n",
       "\n",
       "    .dataframe tbody tr th {\n",
       "        vertical-align: top;\n",
       "    }\n",
       "\n",
       "    .dataframe thead th {\n",
       "        text-align: right;\n",
       "    }\n",
       "</style>\n",
       "<table border=\"1\" class=\"dataframe\">\n",
       "  <thead>\n",
       "    <tr style=\"text-align: right;\">\n",
       "      <th></th>\n",
       "      <th>10th %</th>\n",
       "      <th>12th %</th>\n",
       "      <th>Degree %</th>\n",
       "      <th>Mba %</th>\n",
       "    </tr>\n",
       "    <tr>\n",
       "      <th>Gender</th>\n",
       "      <th></th>\n",
       "      <th></th>\n",
       "      <th></th>\n",
       "      <th></th>\n",
       "    </tr>\n",
       "  </thead>\n",
       "  <tbody>\n",
       "    <tr>\n",
       "      <th>F</th>\n",
       "      <td>76</td>\n",
       "      <td>76</td>\n",
       "      <td>76</td>\n",
       "      <td>76</td>\n",
       "    </tr>\n",
       "    <tr>\n",
       "      <th>M</th>\n",
       "      <td>139</td>\n",
       "      <td>139</td>\n",
       "      <td>139</td>\n",
       "      <td>139</td>\n",
       "    </tr>\n",
       "  </tbody>\n",
       "</table>\n",
       "</div>"
      ],
      "text/plain": [
       "        10th %  12th %  Degree %  Mba %\n",
       "Gender                                 \n",
       "F           76      76        76     76\n",
       "M          139     139       139    139"
      ]
     },
     "execution_count": 23,
     "metadata": {},
     "output_type": "execute_result"
    }
   ],
   "source": [
    "df_pivot"
   ]
  },
  {
   "cell_type": "code",
   "execution_count": 24,
   "id": "e76f17f0",
   "metadata": {},
   "outputs": [],
   "source": [
    "df_piv=pd.pivot_table(df,index='Gender',values=['10th %','12th %','Degree %','Mba %'],aggfunc='sum')"
   ]
  },
  {
   "cell_type": "code",
   "execution_count": 25,
   "id": "fe9b3abf",
   "metadata": {},
   "outputs": [
    {
     "data": {
      "text/html": [
       "<div>\n",
       "<style scoped>\n",
       "    .dataframe tbody tr th:only-of-type {\n",
       "        vertical-align: middle;\n",
       "    }\n",
       "\n",
       "    .dataframe tbody tr th {\n",
       "        vertical-align: top;\n",
       "    }\n",
       "\n",
       "    .dataframe thead th {\n",
       "        text-align: right;\n",
       "    }\n",
       "</style>\n",
       "<table border=\"1\" class=\"dataframe\">\n",
       "  <thead>\n",
       "    <tr style=\"text-align: right;\">\n",
       "      <th></th>\n",
       "      <th>10th %</th>\n",
       "      <th>12th %</th>\n",
       "      <th>Degree %</th>\n",
       "      <th>Mba %</th>\n",
       "    </tr>\n",
       "    <tr>\n",
       "      <th>Gender</th>\n",
       "      <th></th>\n",
       "      <th></th>\n",
       "      <th></th>\n",
       "      <th></th>\n",
       "    </tr>\n",
       "  </thead>\n",
       "  <tbody>\n",
       "    <tr>\n",
       "      <th>F</th>\n",
       "      <td>5191.63</td>\n",
       "      <td>5065.16</td>\n",
       "      <td>5174.84</td>\n",
       "      <td>4912.91</td>\n",
       "    </tr>\n",
       "    <tr>\n",
       "      <th>M</th>\n",
       "      <td>9278.60</td>\n",
       "      <td>9196.47</td>\n",
       "      <td>9094.75</td>\n",
       "      <td>8476.90</td>\n",
       "    </tr>\n",
       "  </tbody>\n",
       "</table>\n",
       "</div>"
      ],
      "text/plain": [
       "         10th %   12th %  Degree %    Mba %\n",
       "Gender                                     \n",
       "F       5191.63  5065.16   5174.84  4912.91\n",
       "M       9278.60  9196.47   9094.75  8476.90"
      ]
     },
     "execution_count": 25,
     "metadata": {},
     "output_type": "execute_result"
    }
   ],
   "source": [
    "df_piv"
   ]
  },
  {
   "cell_type": "code",
   "execution_count": 26,
   "id": "d975e1ea",
   "metadata": {},
   "outputs": [
    {
     "data": {
      "text/plain": [
       "<AxesSubplot:xlabel='Gender'>"
      ]
     },
     "execution_count": 26,
     "metadata": {},
     "output_type": "execute_result"
    },
    {
     "data": {
      "image/png": "[encoded data removed]",
      "text/plain": [
       "<Figure size 432x288 with 1 Axes>"
      ]
     },
     "metadata": {
      "needs_background": "light"
     },
     "output_type": "display_data"
    }
   ],
   "source": [
    "df_piv.plot(kind='bar')"
   ]
  },
  {
   "cell_type": "markdown",
   "id": "69f1cbc7",
   "metadata": {},
   "source": [
    "Observation:No.of males are higher than female through 10th to mba"
   ]
  },
  {
   "cell_type": "code",
   "execution_count": 27,
   "id": "8fd9c367",
   "metadata": {},
   "outputs": [
    {
     "data": {
      "text/plain": [
       "<AxesSubplot:xlabel='Gender'>"
      ]
     },
     "execution_count": 27,
     "metadata": {},
     "output_type": "execute_result"
    },
    {
     "data": {
      "image/png": "[encoded data removed]",
      "text/plain": [
       "<Figure size 432x288 with 1 Axes>"
      ]
     },
     "metadata": {
      "needs_background": "light"
     },
     "output_type": "display_data"
    }
   ],
   "source": [
    "df_pivot.plot(kind='bar')"
   ]
  },
  {
   "cell_type": "markdown",
   "id": "8b954c84",
   "metadata": {},
   "source": [
    "Observation: From the table we understand that every male and female have their 10th %,12th %,degree % and mba %"
   ]
  },
  {
   "cell_type": "code",
   "execution_count": 28,
   "id": "6b16f713",
   "metadata": {},
   "outputs": [],
   "source": [
    "# No. of categorical variables"
   ]
  },
  {
   "cell_type": "code",
   "execution_count": 29,
   "id": "8fba3464",
   "metadata": {},
   "outputs": [],
   "source": [
    "df_cat=df.select_dtypes(include=['object'])"
   ]
  },
  {
   "cell_type": "code",
   "execution_count": 30,
   "id": "2f136260",
   "metadata": {},
   "outputs": [
    {
     "data": {
      "text/html": [
       "<div>\n",
       "<style scoped>\n",
       "    .dataframe tbody tr th:only-of-type {\n",
       "        vertical-align: middle;\n",
       "    }\n",
       "\n",
       "    .dataframe tbody tr th {\n",
       "        vertical-align: top;\n",
       "    }\n",
       "\n",
       "    .dataframe thead th {\n",
       "        text-align: right;\n",
       "    }\n",
       "</style>\n",
       "<table border=\"1\" class=\"dataframe\">\n",
       "  <thead>\n",
       "    <tr style=\"text-align: right;\">\n",
       "      <th></th>\n",
       "      <th>Gender</th>\n",
       "      <th>SSC Board</th>\n",
       "      <th>HSC Board</th>\n",
       "      <th>12th Stream</th>\n",
       "      <th>Degree stream</th>\n",
       "      <th>Work exp</th>\n",
       "      <th>specialisation</th>\n",
       "      <th>status</th>\n",
       "    </tr>\n",
       "  </thead>\n",
       "  <tbody>\n",
       "    <tr>\n",
       "      <th>0</th>\n",
       "      <td>M</td>\n",
       "      <td>Others</td>\n",
       "      <td>Others</td>\n",
       "      <td>Commerce</td>\n",
       "      <td>Sci&amp;Tech</td>\n",
       "      <td>No</td>\n",
       "      <td>Mkt&amp;HR</td>\n",
       "      <td>Placed</td>\n",
       "    </tr>\n",
       "    <tr>\n",
       "      <th>1</th>\n",
       "      <td>M</td>\n",
       "      <td>Central</td>\n",
       "      <td>Others</td>\n",
       "      <td>Science</td>\n",
       "      <td>Sci&amp;Tech</td>\n",
       "      <td>Yes</td>\n",
       "      <td>Mkt&amp;Fin</td>\n",
       "      <td>Placed</td>\n",
       "    </tr>\n",
       "    <tr>\n",
       "      <th>2</th>\n",
       "      <td>M</td>\n",
       "      <td>Central</td>\n",
       "      <td>Central</td>\n",
       "      <td>Arts</td>\n",
       "      <td>Comm&amp;Mgmt</td>\n",
       "      <td>No</td>\n",
       "      <td>Mkt&amp;Fin</td>\n",
       "      <td>Placed</td>\n",
       "    </tr>\n",
       "    <tr>\n",
       "      <th>3</th>\n",
       "      <td>M</td>\n",
       "      <td>Central</td>\n",
       "      <td>Central</td>\n",
       "      <td>Science</td>\n",
       "      <td>Sci&amp;Tech</td>\n",
       "      <td>No</td>\n",
       "      <td>Mkt&amp;HR</td>\n",
       "      <td>Not Placed</td>\n",
       "    </tr>\n",
       "    <tr>\n",
       "      <th>4</th>\n",
       "      <td>M</td>\n",
       "      <td>Central</td>\n",
       "      <td>Central</td>\n",
       "      <td>Commerce</td>\n",
       "      <td>Comm&amp;Mgmt</td>\n",
       "      <td>No</td>\n",
       "      <td>Mkt&amp;Fin</td>\n",
       "      <td>Placed</td>\n",
       "    </tr>\n",
       "  </tbody>\n",
       "</table>\n",
       "</div>"
      ],
      "text/plain": [
       "  Gender SSC Board HSC Board 12th Stream Degree stream Work exp  \\\n",
       "0      M    Others    Others    Commerce      Sci&Tech       No   \n",
       "1      M   Central    Others     Science      Sci&Tech      Yes   \n",
       "2      M   Central   Central        Arts     Comm&Mgmt       No   \n",
       "3      M   Central   Central     Science      Sci&Tech       No   \n",
       "4      M   Central   Central    Commerce     Comm&Mgmt       No   \n",
       "\n",
       "  specialisation      status  \n",
       "0         Mkt&HR      Placed  \n",
       "1        Mkt&Fin      Placed  \n",
       "2        Mkt&Fin      Placed  \n",
       "3         Mkt&HR  Not Placed  \n",
       "4        Mkt&Fin      Placed  "
      ]
     },
     "execution_count": 30,
     "metadata": {},
     "output_type": "execute_result"
    }
   ],
   "source": [
    "df_cat.head()"
   ]
  },
  {
   "cell_type": "code",
   "execution_count": 31,
   "id": "b9553d58",
   "metadata": {},
   "outputs": [],
   "source": [
    "# check for categorical column"
   ]
  },
  {
   "cell_type": "code",
   "execution_count": 32,
   "id": "f75c6b80",
   "metadata": {},
   "outputs": [
    {
     "name": "stdout",
     "output_type": "stream",
     "text": [
      "Gender\n",
      "SSC Board\n",
      "HSC Board\n",
      "12th Stream\n",
      "Degree stream\n",
      "Work exp\n",
      "specialisation\n",
      "status\n"
     ]
    }
   ],
   "source": [
    "for column, content in df.items():\n",
    "    if not pd.api.types.is_numeric_dtype(content):\n",
    "        print(column)"
   ]
  },
  {
   "cell_type": "code",
   "execution_count": 33,
   "id": "1cbb101a",
   "metadata": {},
   "outputs": [
    {
     "name": "stdout",
     "output_type": "stream",
     "text": [
      "Sno\n",
      "10th %\n",
      "12th %\n",
      "Degree %\n",
      "Mba %\n"
     ]
    }
   ],
   "source": [
    "# check for numerical variable\n",
    "for column, content in df.items():\n",
    "    if pd.api.types.is_numeric_dtype(content):\n",
    "        print(column)"
   ]
  },
  {
   "cell_type": "code",
   "execution_count": 34,
   "id": "55683b73",
   "metadata": {},
   "outputs": [],
   "source": [
    "data_cat=df[['Gender','SSC Board','HSC Board','12th Stream','Degree stream','Work exp','specialisation','status']]"
   ]
  },
  {
   "cell_type": "code",
   "execution_count": 35,
   "id": "e2a2b684",
   "metadata": {},
   "outputs": [
    {
     "name": "stdout",
     "output_type": "stream",
     "text": [
      "['M' 'F']\n",
      "['Others' 'Central']\n",
      "['Others' 'Central']\n",
      "['Commerce' 'Science' 'Arts']\n",
      "['Sci&Tech' 'Comm&Mgmt' 'Others']\n",
      "['No' 'Yes']\n",
      "['Mkt&HR' 'Mkt&Fin']\n",
      "['Placed' 'Not Placed']\n"
     ]
    }
   ],
   "source": [
    "for i in data_cat.columns:\n",
    "    print(data_cat[i].unique())"
   ]
  },
  {
   "cell_type": "code",
   "execution_count": 36,
   "id": "11662294",
   "metadata": {},
   "outputs": [
    {
     "name": "stdout",
     "output_type": "stream",
     "text": [
      "M    139\n",
      "F     76\n",
      "Name: Gender, dtype: int64\n",
      "Central    116\n",
      "Others      99\n",
      "Name: SSC Board, dtype: int64\n",
      "Others     131\n",
      "Central     84\n",
      "Name: HSC Board, dtype: int64\n",
      "Commerce    113\n",
      "Science      91\n",
      "Arts         11\n",
      "Name: 12th Stream, dtype: int64\n",
      "Comm&Mgmt    145\n",
      "Sci&Tech      59\n",
      "Others        11\n",
      "Name: Degree stream, dtype: int64\n",
      "No     141\n",
      "Yes     74\n",
      "Name: Work exp, dtype: int64\n",
      "Mkt&Fin    120\n",
      "Mkt&HR      95\n",
      "Name: specialisation, dtype: int64\n",
      "Placed        148\n",
      "Not Placed     67\n",
      "Name: status, dtype: int64\n"
     ]
    }
   ],
   "source": [
    "for i in data_cat.columns:\n",
    "    print(data_cat[i].value_counts())"
   ]
  },
  {
   "cell_type": "code",
   "execution_count": 37,
   "id": "38d5ec41",
   "metadata": {},
   "outputs": [
    {
     "data": {
      "text/plain": [
       "<seaborn.axisgrid.PairGrid at 0x10534b5dea0>"
      ]
     },
     "execution_count": 37,
     "metadata": {},
     "output_type": "execute_result"
    },
    {
     "data": {
      "image/png": "[encoded data removed]",
      "text/plain": [
       "<Figure size 989.5x900 with 30 Axes>"
      ]
     },
     "metadata": {
      "needs_background": "light"
     },
     "output_type": "display_data"
    }
   ],
   "source": [
    "sns.pairplot(df,hue='status',palette='Reds')"
   ]
  },
  {
   "cell_type": "code",
   "execution_count": 38,
   "id": "0309db15",
   "metadata": {},
   "outputs": [
    {
     "data": {
      "image/png": "[encoded data removed]",
      "text/plain": [
       "<Figure size 1440x864 with 8 Axes>"
      ]
     },
     "metadata": {
      "needs_background": "light"
     },
     "output_type": "display_data"
    }
   ],
   "source": [
    "fig,axes=plt.subplots(4,2,figsize=(20,12))\n",
    "for idx,cat_col in enumerate (data_cat):\n",
    "    row,col=idx//2,idx%2\n",
    "    sns.countplot(x=cat_col,hue='Gender',data=df,palette='Reds',ax=axes[row,col])\n",
    "plt.subplots_adjust(hspace=1)"
   ]
  },
  {
   "cell_type": "code",
   "execution_count": 39,
   "id": "1075b7ff",
   "metadata": {},
   "outputs": [],
   "source": [
    "from sklearn.preprocessing import OrdinalEncoder"
   ]
  },
  {
   "cell_type": "code",
   "execution_count": 40,
   "id": "f41fc724",
   "metadata": {},
   "outputs": [],
   "source": [
    "# Instantiate the Label Encoder\n",
    "ordinal_encoder=OrdinalEncoder()"
   ]
  },
  {
   "cell_type": "code",
   "execution_count": 41,
   "id": "3a9251bc",
   "metadata": {},
   "outputs": [],
   "source": [
    "o_e=ordinal_encoder.fit_transform(df[['Gender','SSC Board','HSC Board','12th Stream','Degree stream','Work exp','specialisation','status']])"
   ]
  },
  {
   "cell_type": "code",
   "execution_count": 42,
   "id": "664d0831",
   "metadata": {},
   "outputs": [],
   "source": [
    "o_e=pd.DataFrame(o_e)"
   ]
  },
  {
   "cell_type": "code",
   "execution_count": 43,
   "id": "822cca6e",
   "metadata": {},
   "outputs": [],
   "source": [
    "o_e.columns=['Gender','SSC Board','HSC Board','12th Stream','Degree stream','Work exp','specialisation','status']"
   ]
  },
  {
   "cell_type": "code",
   "execution_count": 44,
   "id": "40e64b7b",
   "metadata": {},
   "outputs": [
    {
     "data": {
      "text/html": [
       "<div>\n",
       "<style scoped>\n",
       "    .dataframe tbody tr th:only-of-type {\n",
       "        vertical-align: middle;\n",
       "    }\n",
       "\n",
       "    .dataframe tbody tr th {\n",
       "        vertical-align: top;\n",
       "    }\n",
       "\n",
       "    .dataframe thead th {\n",
       "        text-align: right;\n",
       "    }\n",
       "</style>\n",
       "<table border=\"1\" class=\"dataframe\">\n",
       "  <thead>\n",
       "    <tr style=\"text-align: right;\">\n",
       "      <th></th>\n",
       "      <th>Gender</th>\n",
       "      <th>SSC Board</th>\n",
       "      <th>HSC Board</th>\n",
       "      <th>12th Stream</th>\n",
       "      <th>Degree stream</th>\n",
       "      <th>Work exp</th>\n",
       "      <th>specialisation</th>\n",
       "      <th>status</th>\n",
       "    </tr>\n",
       "  </thead>\n",
       "  <tbody>\n",
       "    <tr>\n",
       "      <th>0</th>\n",
       "      <td>1.0</td>\n",
       "      <td>1.0</td>\n",
       "      <td>1.0</td>\n",
       "      <td>1.0</td>\n",
       "      <td>2.0</td>\n",
       "      <td>0.0</td>\n",
       "      <td>1.0</td>\n",
       "      <td>1.0</td>\n",
       "    </tr>\n",
       "    <tr>\n",
       "      <th>1</th>\n",
       "      <td>1.0</td>\n",
       "      <td>0.0</td>\n",
       "      <td>1.0</td>\n",
       "      <td>2.0</td>\n",
       "      <td>2.0</td>\n",
       "      <td>1.0</td>\n",
       "      <td>0.0</td>\n",
       "      <td>1.0</td>\n",
       "    </tr>\n",
       "    <tr>\n",
       "      <th>2</th>\n",
       "      <td>1.0</td>\n",
       "      <td>0.0</td>\n",
       "      <td>0.0</td>\n",
       "      <td>0.0</td>\n",
       "      <td>0.0</td>\n",
       "      <td>0.0</td>\n",
       "      <td>0.0</td>\n",
       "      <td>1.0</td>\n",
       "    </tr>\n",
       "    <tr>\n",
       "      <th>3</th>\n",
       "      <td>1.0</td>\n",
       "      <td>0.0</td>\n",
       "      <td>0.0</td>\n",
       "      <td>2.0</td>\n",
       "      <td>2.0</td>\n",
       "      <td>0.0</td>\n",
       "      <td>1.0</td>\n",
       "      <td>0.0</td>\n",
       "    </tr>\n",
       "    <tr>\n",
       "      <th>4</th>\n",
       "      <td>1.0</td>\n",
       "      <td>0.0</td>\n",
       "      <td>0.0</td>\n",
       "      <td>1.0</td>\n",
       "      <td>0.0</td>\n",
       "      <td>0.0</td>\n",
       "      <td>0.0</td>\n",
       "      <td>1.0</td>\n",
       "    </tr>\n",
       "  </tbody>\n",
       "</table>\n",
       "</div>"
      ],
      "text/plain": [
       "   Gender  SSC Board  HSC Board  12th Stream  Degree stream  Work exp  \\\n",
       "0     1.0        1.0        1.0          1.0            2.0       0.0   \n",
       "1     1.0        0.0        1.0          2.0            2.0       1.0   \n",
       "2     1.0        0.0        0.0          0.0            0.0       0.0   \n",
       "3     1.0        0.0        0.0          2.0            2.0       0.0   \n",
       "4     1.0        0.0        0.0          1.0            0.0       0.0   \n",
       "\n",
       "   specialisation  status  \n",
       "0             1.0     1.0  \n",
       "1             0.0     1.0  \n",
       "2             0.0     1.0  \n",
       "3             1.0     0.0  \n",
       "4             0.0     1.0  "
      ]
     },
     "execution_count": 44,
     "metadata": {},
     "output_type": "execute_result"
    }
   ],
   "source": [
    "o_e.head()"
   ]
  },
  {
   "cell_type": "code",
   "execution_count": 45,
   "id": "f9ccb6b9",
   "metadata": {},
   "outputs": [],
   "source": [
    "# To find the corr"
   ]
  },
  {
   "cell_type": "code",
   "execution_count": 46,
   "id": "5b31f3d9",
   "metadata": {},
   "outputs": [
    {
     "data": {
      "text/html": [
       "<div>\n",
       "<style scoped>\n",
       "    .dataframe tbody tr th:only-of-type {\n",
       "        vertical-align: middle;\n",
       "    }\n",
       "\n",
       "    .dataframe tbody tr th {\n",
       "        vertical-align: top;\n",
       "    }\n",
       "\n",
       "    .dataframe thead th {\n",
       "        text-align: right;\n",
       "    }\n",
       "</style>\n",
       "<table border=\"1\" class=\"dataframe\">\n",
       "  <thead>\n",
       "    <tr style=\"text-align: right;\">\n",
       "      <th></th>\n",
       "      <th>Sno</th>\n",
       "      <th>10th %</th>\n",
       "      <th>12th %</th>\n",
       "      <th>Degree %</th>\n",
       "      <th>Mba %</th>\n",
       "    </tr>\n",
       "  </thead>\n",
       "  <tbody>\n",
       "    <tr>\n",
       "      <th>Sno</th>\n",
       "      <td>1.000000</td>\n",
       "      <td>-0.078155</td>\n",
       "      <td>-0.085711</td>\n",
       "      <td>-0.088281</td>\n",
       "      <td>0.022327</td>\n",
       "    </tr>\n",
       "    <tr>\n",
       "      <th>10th %</th>\n",
       "      <td>-0.078155</td>\n",
       "      <td>1.000000</td>\n",
       "      <td>0.511472</td>\n",
       "      <td>0.538404</td>\n",
       "      <td>0.388478</td>\n",
       "    </tr>\n",
       "    <tr>\n",
       "      <th>12th %</th>\n",
       "      <td>-0.085711</td>\n",
       "      <td>0.511472</td>\n",
       "      <td>1.000000</td>\n",
       "      <td>0.434206</td>\n",
       "      <td>0.354823</td>\n",
       "    </tr>\n",
       "    <tr>\n",
       "      <th>Degree %</th>\n",
       "      <td>-0.088281</td>\n",
       "      <td>0.538404</td>\n",
       "      <td>0.434206</td>\n",
       "      <td>1.000000</td>\n",
       "      <td>0.402364</td>\n",
       "    </tr>\n",
       "    <tr>\n",
       "      <th>Mba %</th>\n",
       "      <td>0.022327</td>\n",
       "      <td>0.388478</td>\n",
       "      <td>0.354823</td>\n",
       "      <td>0.402364</td>\n",
       "      <td>1.000000</td>\n",
       "    </tr>\n",
       "  </tbody>\n",
       "</table>\n",
       "</div>"
      ],
      "text/plain": [
       "               Sno    10th %    12th %  Degree %     Mba %\n",
       "Sno       1.000000 -0.078155 -0.085711 -0.088281  0.022327\n",
       "10th %   -0.078155  1.000000  0.511472  0.538404  0.388478\n",
       "12th %   -0.085711  0.511472  1.000000  0.434206  0.354823\n",
       "Degree % -0.088281  0.538404  0.434206  1.000000  0.402364\n",
       "Mba %     0.022327  0.388478  0.354823  0.402364  1.000000"
      ]
     },
     "execution_count": 46,
     "metadata": {},
     "output_type": "execute_result"
    }
   ],
   "source": [
    "df.corr()"
   ]
  },
  {
   "cell_type": "code",
   "execution_count": 47,
   "id": "2f0bd960",
   "metadata": {},
   "outputs": [],
   "source": [
    "# To find the cov"
   ]
  },
  {
   "cell_type": "code",
   "execution_count": 48,
   "id": "83aa39e7",
   "metadata": {},
   "outputs": [
    {
     "data": {
      "text/html": [
       "<div>\n",
       "<style scoped>\n",
       "    .dataframe tbody tr th:only-of-type {\n",
       "        vertical-align: middle;\n",
       "    }\n",
       "\n",
       "    .dataframe tbody tr th {\n",
       "        vertical-align: top;\n",
       "    }\n",
       "\n",
       "    .dataframe thead th {\n",
       "        text-align: right;\n",
       "    }\n",
       "</style>\n",
       "<table border=\"1\" class=\"dataframe\">\n",
       "  <thead>\n",
       "    <tr style=\"text-align: right;\">\n",
       "      <th></th>\n",
       "      <th>Sno</th>\n",
       "      <th>10th %</th>\n",
       "      <th>12th %</th>\n",
       "      <th>Degree %</th>\n",
       "      <th>Mba %</th>\n",
       "    </tr>\n",
       "  </thead>\n",
       "  <tbody>\n",
       "    <tr>\n",
       "      <th>Sno</th>\n",
       "      <td>3870.000000</td>\n",
       "      <td>-52.641355</td>\n",
       "      <td>-58.106028</td>\n",
       "      <td>-40.413645</td>\n",
       "      <td>8.102336</td>\n",
       "    </tr>\n",
       "    <tr>\n",
       "      <th>10th %</th>\n",
       "      <td>-52.641355</td>\n",
       "      <td>117.228377</td>\n",
       "      <td>60.348373</td>\n",
       "      <td>42.897137</td>\n",
       "      <td>24.535952</td>\n",
       "    </tr>\n",
       "    <tr>\n",
       "      <th>12th %</th>\n",
       "      <td>-58.106028</td>\n",
       "      <td>60.348373</td>\n",
       "      <td>118.755706</td>\n",
       "      <td>34.819820</td>\n",
       "      <td>22.555846</td>\n",
       "    </tr>\n",
       "    <tr>\n",
       "      <th>Degree %</th>\n",
       "      <td>-40.413645</td>\n",
       "      <td>42.897137</td>\n",
       "      <td>34.819820</td>\n",
       "      <td>54.151103</td>\n",
       "      <td>17.272020</td>\n",
       "    </tr>\n",
       "    <tr>\n",
       "      <th>Mba %</th>\n",
       "      <td>8.102336</td>\n",
       "      <td>24.535952</td>\n",
       "      <td>22.555846</td>\n",
       "      <td>17.272020</td>\n",
       "      <td>34.028376</td>\n",
       "    </tr>\n",
       "  </tbody>\n",
       "</table>\n",
       "</div>"
      ],
      "text/plain": [
       "                  Sno      10th %      12th %   Degree %      Mba %\n",
       "Sno       3870.000000  -52.641355  -58.106028 -40.413645   8.102336\n",
       "10th %     -52.641355  117.228377   60.348373  42.897137  24.535952\n",
       "12th %     -58.106028   60.348373  118.755706  34.819820  22.555846\n",
       "Degree %   -40.413645   42.897137   34.819820  54.151103  17.272020\n",
       "Mba %        8.102336   24.535952   22.555846  17.272020  34.028376"
      ]
     },
     "execution_count": 48,
     "metadata": {},
     "output_type": "execute_result"
    }
   ],
   "source": [
    "df.cov()"
   ]
  },
  {
   "cell_type": "code",
   "execution_count": 49,
   "id": "d3fd4eef",
   "metadata": {},
   "outputs": [
    {
     "data": {
      "text/plain": [
       "Sno         0.000000\n",
       "10th %     -0.132649\n",
       "12th %      0.163639\n",
       "Degree %    0.244917\n",
       "Mba %       0.313576\n",
       "dtype: float64"
      ]
     },
     "execution_count": 49,
     "metadata": {},
     "output_type": "execute_result"
    }
   ],
   "source": [
    "# To find the skewness\n",
    "df.skew()"
   ]
  },
  {
   "cell_type": "code",
   "execution_count": 50,
   "id": "eee7dad0",
   "metadata": {},
   "outputs": [],
   "source": [
    "df=df.drop(['Gender','SSC Board','HSC Board','12th Stream','Degree stream','Work exp','specialisation','status'],axis=1)"
   ]
  },
  {
   "cell_type": "code",
   "execution_count": 51,
   "id": "6851280b",
   "metadata": {},
   "outputs": [
    {
     "data": {
      "text/html": [
       "<div>\n",
       "<style scoped>\n",
       "    .dataframe tbody tr th:only-of-type {\n",
       "        vertical-align: middle;\n",
       "    }\n",
       "\n",
       "    .dataframe tbody tr th {\n",
       "        vertical-align: top;\n",
       "    }\n",
       "\n",
       "    .dataframe thead th {\n",
       "        text-align: right;\n",
       "    }\n",
       "</style>\n",
       "<table border=\"1\" class=\"dataframe\">\n",
       "  <thead>\n",
       "    <tr style=\"text-align: right;\">\n",
       "      <th></th>\n",
       "      <th>Sno</th>\n",
       "      <th>10th %</th>\n",
       "      <th>12th %</th>\n",
       "      <th>Degree %</th>\n",
       "      <th>Mba %</th>\n",
       "    </tr>\n",
       "  </thead>\n",
       "  <tbody>\n",
       "    <tr>\n",
       "      <th>0</th>\n",
       "      <td>1</td>\n",
       "      <td>67.00</td>\n",
       "      <td>91.00</td>\n",
       "      <td>58.00</td>\n",
       "      <td>58.80</td>\n",
       "    </tr>\n",
       "    <tr>\n",
       "      <th>1</th>\n",
       "      <td>2</td>\n",
       "      <td>79.33</td>\n",
       "      <td>78.33</td>\n",
       "      <td>77.48</td>\n",
       "      <td>66.28</td>\n",
       "    </tr>\n",
       "    <tr>\n",
       "      <th>2</th>\n",
       "      <td>3</td>\n",
       "      <td>65.00</td>\n",
       "      <td>68.00</td>\n",
       "      <td>64.00</td>\n",
       "      <td>57.80</td>\n",
       "    </tr>\n",
       "    <tr>\n",
       "      <th>3</th>\n",
       "      <td>4</td>\n",
       "      <td>56.00</td>\n",
       "      <td>52.00</td>\n",
       "      <td>52.00</td>\n",
       "      <td>59.43</td>\n",
       "    </tr>\n",
       "    <tr>\n",
       "      <th>4</th>\n",
       "      <td>5</td>\n",
       "      <td>85.80</td>\n",
       "      <td>73.60</td>\n",
       "      <td>73.30</td>\n",
       "      <td>55.50</td>\n",
       "    </tr>\n",
       "  </tbody>\n",
       "</table>\n",
       "</div>"
      ],
      "text/plain": [
       "   Sno  10th %  12th %  Degree %  Mba %\n",
       "0    1   67.00   91.00     58.00  58.80\n",
       "1    2   79.33   78.33     77.48  66.28\n",
       "2    3   65.00   68.00     64.00  57.80\n",
       "3    4   56.00   52.00     52.00  59.43\n",
       "4    5   85.80   73.60     73.30  55.50"
      ]
     },
     "execution_count": 51,
     "metadata": {},
     "output_type": "execute_result"
    }
   ],
   "source": [
    "df.head()"
   ]
  },
  {
   "cell_type": "code",
   "execution_count": 52,
   "id": "6ab5ce57",
   "metadata": {},
   "outputs": [],
   "source": [
    "df=pd.concat([df,o_e],axis=1)"
   ]
  },
  {
   "cell_type": "code",
   "execution_count": 53,
   "id": "9abc1357",
   "metadata": {},
   "outputs": [
    {
     "data": {
      "text/html": [
       "<div>\n",
       "<style scoped>\n",
       "    .dataframe tbody tr th:only-of-type {\n",
       "        vertical-align: middle;\n",
       "    }\n",
       "\n",
       "    .dataframe tbody tr th {\n",
       "        vertical-align: top;\n",
       "    }\n",
       "\n",
       "    .dataframe thead th {\n",
       "        text-align: right;\n",
       "    }\n",
       "</style>\n",
       "<table border=\"1\" class=\"dataframe\">\n",
       "  <thead>\n",
       "    <tr style=\"text-align: right;\">\n",
       "      <th></th>\n",
       "      <th>Sno</th>\n",
       "      <th>10th %</th>\n",
       "      <th>12th %</th>\n",
       "      <th>Degree %</th>\n",
       "      <th>Mba %</th>\n",
       "      <th>Gender</th>\n",
       "      <th>SSC Board</th>\n",
       "      <th>HSC Board</th>\n",
       "      <th>12th Stream</th>\n",
       "      <th>Degree stream</th>\n",
       "      <th>Work exp</th>\n",
       "      <th>specialisation</th>\n",
       "      <th>status</th>\n",
       "    </tr>\n",
       "  </thead>\n",
       "  <tbody>\n",
       "    <tr>\n",
       "      <th>0</th>\n",
       "      <td>1</td>\n",
       "      <td>67.00</td>\n",
       "      <td>91.00</td>\n",
       "      <td>58.00</td>\n",
       "      <td>58.80</td>\n",
       "      <td>1.0</td>\n",
       "      <td>1.0</td>\n",
       "      <td>1.0</td>\n",
       "      <td>1.0</td>\n",
       "      <td>2.0</td>\n",
       "      <td>0.0</td>\n",
       "      <td>1.0</td>\n",
       "      <td>1.0</td>\n",
       "    </tr>\n",
       "    <tr>\n",
       "      <th>1</th>\n",
       "      <td>2</td>\n",
       "      <td>79.33</td>\n",
       "      <td>78.33</td>\n",
       "      <td>77.48</td>\n",
       "      <td>66.28</td>\n",
       "      <td>1.0</td>\n",
       "      <td>0.0</td>\n",
       "      <td>1.0</td>\n",
       "      <td>2.0</td>\n",
       "      <td>2.0</td>\n",
       "      <td>1.0</td>\n",
       "      <td>0.0</td>\n",
       "      <td>1.0</td>\n",
       "    </tr>\n",
       "    <tr>\n",
       "      <th>2</th>\n",
       "      <td>3</td>\n",
       "      <td>65.00</td>\n",
       "      <td>68.00</td>\n",
       "      <td>64.00</td>\n",
       "      <td>57.80</td>\n",
       "      <td>1.0</td>\n",
       "      <td>0.0</td>\n",
       "      <td>0.0</td>\n",
       "      <td>0.0</td>\n",
       "      <td>0.0</td>\n",
       "      <td>0.0</td>\n",
       "      <td>0.0</td>\n",
       "      <td>1.0</td>\n",
       "    </tr>\n",
       "    <tr>\n",
       "      <th>3</th>\n",
       "      <td>4</td>\n",
       "      <td>56.00</td>\n",
       "      <td>52.00</td>\n",
       "      <td>52.00</td>\n",
       "      <td>59.43</td>\n",
       "      <td>1.0</td>\n",
       "      <td>0.0</td>\n",
       "      <td>0.0</td>\n",
       "      <td>2.0</td>\n",
       "      <td>2.0</td>\n",
       "      <td>0.0</td>\n",
       "      <td>1.0</td>\n",
       "      <td>0.0</td>\n",
       "    </tr>\n",
       "    <tr>\n",
       "      <th>4</th>\n",
       "      <td>5</td>\n",
       "      <td>85.80</td>\n",
       "      <td>73.60</td>\n",
       "      <td>73.30</td>\n",
       "      <td>55.50</td>\n",
       "      <td>1.0</td>\n",
       "      <td>0.0</td>\n",
       "      <td>0.0</td>\n",
       "      <td>1.0</td>\n",
       "      <td>0.0</td>\n",
       "      <td>0.0</td>\n",
       "      <td>0.0</td>\n",
       "      <td>1.0</td>\n",
       "    </tr>\n",
       "  </tbody>\n",
       "</table>\n",
       "</div>"
      ],
      "text/plain": [
       "   Sno  10th %  12th %  Degree %  Mba %  Gender  SSC Board  HSC Board  \\\n",
       "0    1   67.00   91.00     58.00  58.80     1.0        1.0        1.0   \n",
       "1    2   79.33   78.33     77.48  66.28     1.0        0.0        1.0   \n",
       "2    3   65.00   68.00     64.00  57.80     1.0        0.0        0.0   \n",
       "3    4   56.00   52.00     52.00  59.43     1.0        0.0        0.0   \n",
       "4    5   85.80   73.60     73.30  55.50     1.0        0.0        0.0   \n",
       "\n",
       "   12th Stream  Degree stream  Work exp  specialisation  status  \n",
       "0          1.0            2.0       0.0             1.0     1.0  \n",
       "1          2.0            2.0       1.0             0.0     1.0  \n",
       "2          0.0            0.0       0.0             0.0     1.0  \n",
       "3          2.0            2.0       0.0             1.0     0.0  \n",
       "4          1.0            0.0       0.0             0.0     1.0  "
      ]
     },
     "execution_count": 53,
     "metadata": {},
     "output_type": "execute_result"
    }
   ],
   "source": [
    "df.head()"
   ]
  },
  {
   "cell_type": "code",
   "execution_count": 54,
   "id": "22b99152",
   "metadata": {},
   "outputs": [],
   "source": [
    "# Import Library\n",
    "from sklearn.model_selection import train_test_split,cross_val_score"
   ]
  },
  {
   "cell_type": "code",
   "execution_count": 55,
   "id": "01605d77",
   "metadata": {},
   "outputs": [],
   "source": [
    "from sklearn.linear_model import LogisticRegression"
   ]
  },
  {
   "cell_type": "code",
   "execution_count": 56,
   "id": "71600df2",
   "metadata": {},
   "outputs": [],
   "source": [
    "from sklearn.neighbors import KNeighborsClassifier"
   ]
  },
  {
   "cell_type": "code",
   "execution_count": 57,
   "id": "cc57a01c",
   "metadata": {},
   "outputs": [],
   "source": [
    "from sklearn.ensemble import RandomForestClassifier"
   ]
  },
  {
   "cell_type": "code",
   "execution_count": 58,
   "id": "2523d6be",
   "metadata": {},
   "outputs": [],
   "source": [
    "from sklearn.tree import DecisionTreeClassifier"
   ]
  },
  {
   "cell_type": "code",
   "execution_count": 59,
   "id": "ec0bcc81",
   "metadata": {},
   "outputs": [],
   "source": [
    "from sklearn.svm import SVC"
   ]
  },
  {
   "cell_type": "code",
   "execution_count": 60,
   "id": "f63dc0e6",
   "metadata": {},
   "outputs": [],
   "source": [
    "from sklearn.preprocessing import StandardScaler"
   ]
  },
  {
   "cell_type": "code",
   "execution_count": 61,
   "id": "947ffc1f",
   "metadata": {},
   "outputs": [],
   "source": [
    "from sklearn.metrics import confusion_matrix,classification_report"
   ]
  },
  {
   "cell_type": "code",
   "execution_count": 62,
   "id": "4822e881",
   "metadata": {},
   "outputs": [],
   "source": [
    "from sklearn.metrics import accuracy_score"
   ]
  },
  {
   "cell_type": "code",
   "execution_count": 63,
   "id": "563493fe",
   "metadata": {},
   "outputs": [],
   "source": [
    "# Instantiate an object"
   ]
  },
  {
   "cell_type": "code",
   "execution_count": 64,
   "id": "5bbf052c",
   "metadata": {},
   "outputs": [],
   "source": [
    "scaler=StandardScaler()"
   ]
  },
  {
   "cell_type": "code",
   "execution_count": 65,
   "id": "b33fec24",
   "metadata": {},
   "outputs": [],
   "source": [
    "scaled_features=scaler.fit_transform(df.drop('status',axis=1))"
   ]
  },
  {
   "cell_type": "code",
   "execution_count": 66,
   "id": "fbe866f7",
   "metadata": {},
   "outputs": [],
   "source": [
    "scaled_features=pd.DataFrame(scaled_features)"
   ]
  },
  {
   "cell_type": "code",
   "execution_count": 67,
   "id": "3d5c4c87",
   "metadata": {},
   "outputs": [],
   "source": [
    "scaled_features.columns=['Sno','10th %','12th %','Degree %','Mba %','Gender','SSC Board','HSC Board','12th Stream','Degree stream','work exp','specialisation']"
   ]
  },
  {
   "cell_type": "code",
   "execution_count": 68,
   "id": "7761ea16",
   "metadata": {},
   "outputs": [
    {
     "data": {
      "text/html": [
       "<div>\n",
       "<style scoped>\n",
       "    .dataframe tbody tr th:only-of-type {\n",
       "        vertical-align: middle;\n",
       "    }\n",
       "\n",
       "    .dataframe tbody tr th {\n",
       "        vertical-align: top;\n",
       "    }\n",
       "\n",
       "    .dataframe thead th {\n",
       "        text-align: right;\n",
       "    }\n",
       "</style>\n",
       "<table border=\"1\" class=\"dataframe\">\n",
       "  <thead>\n",
       "    <tr style=\"text-align: right;\">\n",
       "      <th></th>\n",
       "      <th>Sno</th>\n",
       "      <th>10th %</th>\n",
       "      <th>12th %</th>\n",
       "      <th>Degree %</th>\n",
       "      <th>Mba %</th>\n",
       "      <th>Gender</th>\n",
       "      <th>SSC Board</th>\n",
       "      <th>HSC Board</th>\n",
       "      <th>12th Stream</th>\n",
       "      <th>Degree stream</th>\n",
       "      <th>work exp</th>\n",
       "      <th>specialisation</th>\n",
       "    </tr>\n",
       "  </thead>\n",
       "  <tbody>\n",
       "    <tr>\n",
       "      <th>0</th>\n",
       "      <td>-1.724013</td>\n",
       "      <td>-0.028087</td>\n",
       "      <td>2.268812</td>\n",
       "      <td>-1.140102</td>\n",
       "      <td>-0.597647</td>\n",
       "      <td>0.739434</td>\n",
       "      <td>1.082459</td>\n",
       "      <td>0.800763</td>\n",
       "      <td>-0.641955</td>\n",
       "      <td>1.576284</td>\n",
       "      <td>-0.724446</td>\n",
       "      <td>1.123903</td>\n",
       "    </tr>\n",
       "    <tr>\n",
       "      <th>1</th>\n",
       "      <td>-1.707901</td>\n",
       "      <td>1.113369</td>\n",
       "      <td>1.103448</td>\n",
       "      <td>1.513267</td>\n",
       "      <td>0.687620</td>\n",
       "      <td>0.739434</td>\n",
       "      <td>-0.923823</td>\n",
       "      <td>0.800763</td>\n",
       "      <td>1.083298</td>\n",
       "      <td>1.576284</td>\n",
       "      <td>1.380364</td>\n",
       "      <td>-0.889757</td>\n",
       "    </tr>\n",
       "    <tr>\n",
       "      <th>2</th>\n",
       "      <td>-1.691789</td>\n",
       "      <td>-0.213238</td>\n",
       "      <td>0.153313</td>\n",
       "      <td>-0.322843</td>\n",
       "      <td>-0.769474</td>\n",
       "      <td>0.739434</td>\n",
       "      <td>-0.923823</td>\n",
       "      <td>-1.248809</td>\n",
       "      <td>-2.367207</td>\n",
       "      <td>-0.675550</td>\n",
       "      <td>-0.724446</td>\n",
       "      <td>-0.889757</td>\n",
       "    </tr>\n",
       "    <tr>\n",
       "      <th>3</th>\n",
       "      <td>-1.675677</td>\n",
       "      <td>-1.046417</td>\n",
       "      <td>-1.318339</td>\n",
       "      <td>-1.957362</td>\n",
       "      <td>-0.489396</td>\n",
       "      <td>0.739434</td>\n",
       "      <td>-0.923823</td>\n",
       "      <td>-1.248809</td>\n",
       "      <td>1.083298</td>\n",
       "      <td>1.576284</td>\n",
       "      <td>-0.724446</td>\n",
       "      <td>1.123903</td>\n",
       "    </tr>\n",
       "    <tr>\n",
       "      <th>4</th>\n",
       "      <td>-1.659564</td>\n",
       "      <td>1.712332</td>\n",
       "      <td>0.668391</td>\n",
       "      <td>0.943909</td>\n",
       "      <td>-1.164676</td>\n",
       "      <td>0.739434</td>\n",
       "      <td>-0.923823</td>\n",
       "      <td>-1.248809</td>\n",
       "      <td>-0.641955</td>\n",
       "      <td>-0.675550</td>\n",
       "      <td>-0.724446</td>\n",
       "      <td>-0.889757</td>\n",
       "    </tr>\n",
       "  </tbody>\n",
       "</table>\n",
       "</div>"
      ],
      "text/plain": [
       "        Sno    10th %    12th %  Degree %     Mba %    Gender  SSC Board  \\\n",
       "0 -1.724013 -0.028087  2.268812 -1.140102 -0.597647  0.739434   1.082459   \n",
       "1 -1.707901  1.113369  1.103448  1.513267  0.687620  0.739434  -0.923823   \n",
       "2 -1.691789 -0.213238  0.153313 -0.322843 -0.769474  0.739434  -0.923823   \n",
       "3 -1.675677 -1.046417 -1.318339 -1.957362 -0.489396  0.739434  -0.923823   \n",
       "4 -1.659564  1.712332  0.668391  0.943909 -1.164676  0.739434  -0.923823   \n",
       "\n",
       "   HSC Board  12th Stream  Degree stream  work exp  specialisation  \n",
       "0   0.800763    -0.641955       1.576284 -0.724446        1.123903  \n",
       "1   0.800763     1.083298       1.576284  1.380364       -0.889757  \n",
       "2  -1.248809    -2.367207      -0.675550 -0.724446       -0.889757  \n",
       "3  -1.248809     1.083298       1.576284 -0.724446        1.123903  \n",
       "4  -1.248809    -0.641955      -0.675550 -0.724446       -0.889757  "
      ]
     },
     "execution_count": 68,
     "metadata": {},
     "output_type": "execute_result"
    }
   ],
   "source": [
    "scaled_features.head()"
   ]
  },
  {
   "cell_type": "code",
   "execution_count": 69,
   "id": "3fd5d17d",
   "metadata": {},
   "outputs": [],
   "source": [
    "x=scaled_features\n",
    "y=df['status']"
   ]
  },
  {
   "cell_type": "code",
   "execution_count": 70,
   "id": "e8a60fac",
   "metadata": {},
   "outputs": [],
   "source": [
    "X_train,X_test,y_train,y_test=train_test_split(x,y,test_size=0.3,random_state=100)"
   ]
  },
  {
   "cell_type": "markdown",
   "id": "f6e09e3a",
   "metadata": {},
   "source": [
    "# Using Logistic regression"
   ]
  },
  {
   "cell_type": "code",
   "execution_count": 71,
   "id": "06401c59",
   "metadata": {},
   "outputs": [],
   "source": [
    "lr=LogisticRegression(max_iter=100)"
   ]
  },
  {
   "cell_type": "code",
   "execution_count": 72,
   "id": "00ee41ee",
   "metadata": {},
   "outputs": [
    {
     "data": {
      "text/plain": [
       "LogisticRegression()"
      ]
     },
     "execution_count": 72,
     "metadata": {},
     "output_type": "execute_result"
    }
   ],
   "source": [
    "lr.fit(X_train,y_train)"
   ]
  },
  {
   "cell_type": "code",
   "execution_count": 73,
   "id": "ebd57659",
   "metadata": {},
   "outputs": [],
   "source": [
    "pred=lr.predict(X_test)"
   ]
  },
  {
   "cell_type": "code",
   "execution_count": 74,
   "id": "ceefb880",
   "metadata": {},
   "outputs": [
    {
     "name": "stdout",
     "output_type": "stream",
     "text": [
      "              precision    recall  f1-score   support\n",
      "\n",
      "         0.0       0.85      0.74      0.79        23\n",
      "         1.0       0.87      0.93      0.90        42\n",
      "\n",
      "    accuracy                           0.86        65\n",
      "   macro avg       0.86      0.83      0.84        65\n",
      "weighted avg       0.86      0.86      0.86        65\n",
      "\n"
     ]
    }
   ],
   "source": [
    "print(classification_report(y_test,pred))"
   ]
  },
  {
   "cell_type": "code",
   "execution_count": 75,
   "id": "e37a290b",
   "metadata": {},
   "outputs": [
    {
     "data": {
      "text/plain": [
       "<AxesSubplot:>"
      ]
     },
     "execution_count": 75,
     "metadata": {},
     "output_type": "execute_result"
    },
    {
     "data": {
      "image/png": "[encoded data removed]",
      "text/plain": [
       "<Figure size 432x288 with 2 Axes>"
      ]
     },
     "metadata": {
      "needs_background": "light"
     },
     "output_type": "display_data"
    }
   ],
   "source": [
    "sns.heatmap(confusion_matrix(y_test,pred),annot=True)"
   ]
  },
  {
   "cell_type": "code",
   "execution_count": 136,
   "id": "66b23dd0",
   "metadata": {},
   "outputs": [
    {
     "name": "stdout",
     "output_type": "stream",
     "text": [
      "The accuracy of the score is :0.8461538461538461\n"
     ]
    }
   ],
   "source": [
    "print(f'The accuracy of the score is :{accuracy_score(y_test,pred)}')"
   ]
  },
  {
   "cell_type": "markdown",
   "id": "17cf4ea1",
   "metadata": {},
   "source": [
    "# Using KNN"
   ]
  },
  {
   "cell_type": "code",
   "execution_count": 77,
   "id": "ec03bc7f",
   "metadata": {},
   "outputs": [],
   "source": [
    "knn=KNeighborsClassifier(n_neighbors=1)"
   ]
  },
  {
   "cell_type": "code",
   "execution_count": 78,
   "id": "83778dde",
   "metadata": {},
   "outputs": [
    {
     "data": {
      "text/plain": [
       "KNeighborsClassifier(n_neighbors=1)"
      ]
     },
     "execution_count": 78,
     "metadata": {},
     "output_type": "execute_result"
    }
   ],
   "source": [
    "knn.fit(X_train,y_train)"
   ]
  },
  {
   "cell_type": "code",
   "execution_count": 79,
   "id": "f8c244cf",
   "metadata": {},
   "outputs": [],
   "source": [
    "knn_pred=knn.predict(X_test)"
   ]
  },
  {
   "cell_type": "code",
   "execution_count": 80,
   "id": "37b35f7c",
   "metadata": {},
   "outputs": [
    {
     "name": "stdout",
     "output_type": "stream",
     "text": [
      "              precision    recall  f1-score   support\n",
      "\n",
      "         0.0       0.70      0.61      0.65        23\n",
      "         1.0       0.80      0.86      0.83        42\n",
      "\n",
      "    accuracy                           0.77        65\n",
      "   macro avg       0.75      0.73      0.74        65\n",
      "weighted avg       0.76      0.77      0.77        65\n",
      "\n"
     ]
    }
   ],
   "source": [
    "print(classification_report(y_test,knn_pred))"
   ]
  },
  {
   "cell_type": "code",
   "execution_count": 81,
   "id": "aae8b3ae",
   "metadata": {},
   "outputs": [
    {
     "name": "stdout",
     "output_type": "stream",
     "text": [
      "[[14  9]\n",
      " [ 6 36]]\n"
     ]
    }
   ],
   "source": [
    "print(confusion_matrix(y_test,knn_pred))"
   ]
  },
  {
   "cell_type": "code",
   "execution_count": 82,
   "id": "9b0a5016",
   "metadata": {},
   "outputs": [
    {
     "data": {
      "text/plain": [
       "<AxesSubplot:>"
      ]
     },
     "execution_count": 82,
     "metadata": {},
     "output_type": "execute_result"
    },
    {
     "data": {
      "image/png": "[encoded data removed]",
      "text/plain": [
       "<Figure size 432x288 with 2 Axes>"
      ]
     },
     "metadata": {
      "needs_background": "light"
     },
     "output_type": "display_data"
    }
   ],
   "source": [
    "sns.heatmap(confusion_matrix(y_test,knn_pred),annot=True)"
   ]
  },
  {
   "cell_type": "code",
   "execution_count": 135,
   "id": "4417381e",
   "metadata": {},
   "outputs": [
    {
     "name": "stdout",
     "output_type": "stream",
     "text": [
      "The accuracy score of the model is: 0.7692307692307693\n"
     ]
    }
   ],
   "source": [
    "print(f'The accuracy score of the model is: {accuracy_score(y_test,knn_pred)}')"
   ]
  },
  {
   "cell_type": "code",
   "execution_count": 84,
   "id": "bdb44cfd",
   "metadata": {},
   "outputs": [],
   "source": [
    "error_rate=[]\n",
    "for i in range (1,40):\n",
    "    knn=KNeighborsClassifier(n_neighbors=i)\n",
    "    knn.fit(X_train,y_train)\n",
    "    pred_i=knn.predict(X_test)\n",
    "    error_rate.append(np.mean(pred_i != y_test))"
   ]
  },
  {
   "cell_type": "code",
   "execution_count": 85,
   "id": "1f397ddc",
   "metadata": {},
   "outputs": [
    {
     "data": {
      "text/plain": [
       "Text(0, 0.5, 'error_rate')"
      ]
     },
     "execution_count": 85,
     "metadata": {},
     "output_type": "execute_result"
    },
    {
     "data": {
      "image/png": "[encoded data removed]",
      "text/plain": [
       "<Figure size 720x432 with 1 Axes>"
      ]
     },
     "metadata": {
      "needs_background": "light"
     },
     "output_type": "display_data"
    }
   ],
   "source": [
    "plt.figure(figsize=(10,6))\n",
    "plt.plot(range(1,40),error_rate,color='blue',linestyle='dashed',marker='o',markerfacecolor='red',markersize='10')\n",
    "plt.title('error_rate vs k')\n",
    "plt.xlabel('k')\n",
    "plt.ylabel('error_rate')"
   ]
  },
  {
   "cell_type": "code",
   "execution_count": 91,
   "id": "9b9bfab7",
   "metadata": {},
   "outputs": [],
   "source": [
    "knn_i=KNeighborsClassifier(n_neighbors=10)\n",
    "knn.fit(X_train,y_train)\n",
    "pred_i=knn.predict(X_test)"
   ]
  },
  {
   "cell_type": "code",
   "execution_count": 95,
   "id": "981cc86a",
   "metadata": {},
   "outputs": [
    {
     "name": "stdout",
     "output_type": "stream",
     "text": [
      "[[ 7 16]\n",
      " [ 0 42]]\n"
     ]
    }
   ],
   "source": [
    "print(confusion_matrix(y_test,pred_i))"
   ]
  },
  {
   "cell_type": "code",
   "execution_count": 97,
   "id": "be4ca817",
   "metadata": {},
   "outputs": [
    {
     "data": {
      "text/plain": [
       "<AxesSubplot:>"
      ]
     },
     "execution_count": 97,
     "metadata": {},
     "output_type": "execute_result"
    },
    {
     "data": {
      "image/png": "[encoded data removed]",
      "text/plain": [
       "<Figure size 432x288 with 2 Axes>"
      ]
     },
     "metadata": {
      "needs_background": "light"
     },
     "output_type": "display_data"
    }
   ],
   "source": [
    "sns.heatmap(confusion_matrix(y_test,pred_i),annot=True)"
   ]
  },
  {
   "cell_type": "code",
   "execution_count": 98,
   "id": "f0462b00",
   "metadata": {},
   "outputs": [
    {
     "name": "stdout",
     "output_type": "stream",
     "text": [
      "              precision    recall  f1-score   support\n",
      "\n",
      "         0.0       1.00      0.30      0.47        23\n",
      "         1.0       0.72      1.00      0.84        42\n",
      "\n",
      "    accuracy                           0.75        65\n",
      "   macro avg       0.86      0.65      0.65        65\n",
      "weighted avg       0.82      0.75      0.71        65\n",
      "\n"
     ]
    }
   ],
   "source": [
    "print(classification_report(y_test,pred_i))"
   ]
  },
  {
   "cell_type": "code",
   "execution_count": 134,
   "id": "5be660f9",
   "metadata": {},
   "outputs": [
    {
     "name": "stdout",
     "output_type": "stream",
     "text": [
      "The accuracy of the score is:0.7538461538461538\n"
     ]
    }
   ],
   "source": [
    "print(f'The accuracy of the score is:{accuracy_score(y_test,pred_i)}')"
   ]
  },
  {
   "cell_type": "markdown",
   "id": "6fe5a7ca",
   "metadata": {},
   "source": [
    "# Using Random Forest"
   ]
  },
  {
   "cell_type": "code",
   "execution_count": 101,
   "id": "a19f603f",
   "metadata": {},
   "outputs": [],
   "source": [
    "rf=RandomForestClassifier()"
   ]
  },
  {
   "cell_type": "code",
   "execution_count": 102,
   "id": "ce16240d",
   "metadata": {},
   "outputs": [
    {
     "data": {
      "text/plain": [
       "RandomForestClassifier()"
      ]
     },
     "execution_count": 102,
     "metadata": {},
     "output_type": "execute_result"
    }
   ],
   "source": [
    "rf.fit(X_train,y_train)"
   ]
  },
  {
   "cell_type": "code",
   "execution_count": 104,
   "id": "4b71b528",
   "metadata": {},
   "outputs": [],
   "source": [
    "pred=rf.predict(X_test)"
   ]
  },
  {
   "cell_type": "code",
   "execution_count": 105,
   "id": "b1ec7662",
   "metadata": {},
   "outputs": [
    {
     "name": "stdout",
     "output_type": "stream",
     "text": [
      "              precision    recall  f1-score   support\n",
      "\n",
      "         0.0       0.90      0.83      0.86        23\n",
      "         1.0       0.91      0.95      0.93        42\n",
      "\n",
      "    accuracy                           0.91        65\n",
      "   macro avg       0.91      0.89      0.90        65\n",
      "weighted avg       0.91      0.91      0.91        65\n",
      "\n"
     ]
    }
   ],
   "source": [
    "print(classification_report(y_test,pred))"
   ]
  },
  {
   "cell_type": "code",
   "execution_count": 106,
   "id": "c5766b30",
   "metadata": {},
   "outputs": [
    {
     "name": "stdout",
     "output_type": "stream",
     "text": [
      "[[19  4]\n",
      " [ 2 40]]\n"
     ]
    }
   ],
   "source": [
    "print(confusion_matrix(y_test,pred))"
   ]
  },
  {
   "cell_type": "code",
   "execution_count": 108,
   "id": "7111c17e",
   "metadata": {},
   "outputs": [
    {
     "data": {
      "text/plain": [
       "<AxesSubplot:>"
      ]
     },
     "execution_count": 108,
     "metadata": {},
     "output_type": "execute_result"
    },
    {
     "data": {
      "image/png": "[encoded data removed]",
      "text/plain": [
       "<Figure size 432x288 with 2 Axes>"
      ]
     },
     "metadata": {
      "needs_background": "light"
     },
     "output_type": "display_data"
    }
   ],
   "source": [
    "sns.heatmap(confusion_matrix(y_test,pred),annot=True)"
   ]
  },
  {
   "cell_type": "code",
   "execution_count": 133,
   "id": "8e8af98c",
   "metadata": {},
   "outputs": [
    {
     "name": "stdout",
     "output_type": "stream",
     "text": [
      "The accuracy of the score is:0.8461538461538461\n"
     ]
    }
   ],
   "source": [
    "print(f'The accuracy of the score is:{accuracy_score(y_test,pred)}')"
   ]
  },
  {
   "cell_type": "markdown",
   "id": "a8e5f73c",
   "metadata": {},
   "source": [
    "# Using Decision Tree Classifier"
   ]
  },
  {
   "cell_type": "code",
   "execution_count": 110,
   "id": "62a8cc84",
   "metadata": {},
   "outputs": [],
   "source": [
    "dtree=DecisionTreeClassifier()"
   ]
  },
  {
   "cell_type": "code",
   "execution_count": 111,
   "id": "9a3a649c",
   "metadata": {},
   "outputs": [
    {
     "data": {
      "text/plain": [
       "DecisionTreeClassifier()"
      ]
     },
     "execution_count": 111,
     "metadata": {},
     "output_type": "execute_result"
    }
   ],
   "source": [
    "dtree.fit(X_train,y_train)"
   ]
  },
  {
   "cell_type": "code",
   "execution_count": 112,
   "id": "a404e38c",
   "metadata": {},
   "outputs": [],
   "source": [
    "pred=dtree.predict(X_test)"
   ]
  },
  {
   "cell_type": "code",
   "execution_count": 115,
   "id": "6bcc67cb",
   "metadata": {},
   "outputs": [
    {
     "name": "stdout",
     "output_type": "stream",
     "text": [
      "              precision    recall  f1-score   support\n",
      "\n",
      "         0.0       0.78      0.78      0.78        23\n",
      "         1.0       0.88      0.88      0.88        42\n",
      "\n",
      "    accuracy                           0.85        65\n",
      "   macro avg       0.83      0.83      0.83        65\n",
      "weighted avg       0.85      0.85      0.85        65\n",
      "\n"
     ]
    }
   ],
   "source": [
    "print(classification_report(y_test,pred))"
   ]
  },
  {
   "cell_type": "code",
   "execution_count": 132,
   "id": "79b765db",
   "metadata": {},
   "outputs": [
    {
     "name": "stdout",
     "output_type": "stream",
     "text": [
      "The accuracy of the score is:0.8461538461538461\n"
     ]
    }
   ],
   "source": [
    "print(f'The accuracy of the score is:{accuracy_score(y_test,pred)}')"
   ]
  },
  {
   "cell_type": "code",
   "execution_count": 117,
   "id": "8f960993",
   "metadata": {},
   "outputs": [
    {
     "name": "stdout",
     "output_type": "stream",
     "text": [
      "[[18  5]\n",
      " [ 5 37]]\n"
     ]
    }
   ],
   "source": [
    "print(confusion_matrix(y_test,pred))"
   ]
  },
  {
   "cell_type": "code",
   "execution_count": 119,
   "id": "60850646",
   "metadata": {},
   "outputs": [
    {
     "data": {
      "text/plain": [
       "<AxesSubplot:>"
      ]
     },
     "execution_count": 119,
     "metadata": {},
     "output_type": "execute_result"
    },
    {
     "data": {
      "image/png": "[encoded data removed]",
      "text/plain": [
       "<Figure size 432x288 with 2 Axes>"
      ]
     },
     "metadata": {
      "needs_background": "light"
     },
     "output_type": "display_data"
    }
   ],
   "source": [
    "sns.heatmap(confusion_matrix(y_test,pred),annot=True)"
   ]
  },
  {
   "cell_type": "markdown",
   "id": "9b156967",
   "metadata": {},
   "source": [
    "# SVC"
   ]
  },
  {
   "cell_type": "code",
   "execution_count": 120,
   "id": "7fb2bd3b",
   "metadata": {},
   "outputs": [],
   "source": [
    "svc=SVC()"
   ]
  },
  {
   "cell_type": "code",
   "execution_count": 121,
   "id": "22acfa96",
   "metadata": {},
   "outputs": [
    {
     "data": {
      "text/plain": [
       "SVC()"
      ]
     },
     "execution_count": 121,
     "metadata": {},
     "output_type": "execute_result"
    }
   ],
   "source": [
    "svc.fit(X_train,y_train)"
   ]
  },
  {
   "cell_type": "code",
   "execution_count": 122,
   "id": "3162f51f",
   "metadata": {},
   "outputs": [],
   "source": [
    "pred=svc.predict(X_test)"
   ]
  },
  {
   "cell_type": "code",
   "execution_count": 123,
   "id": "543938bc",
   "metadata": {},
   "outputs": [
    {
     "name": "stdout",
     "output_type": "stream",
     "text": [
      "              precision    recall  f1-score   support\n",
      "\n",
      "         0.0       0.88      0.65      0.75        23\n",
      "         1.0       0.83      0.95      0.89        42\n",
      "\n",
      "    accuracy                           0.85        65\n",
      "   macro avg       0.86      0.80      0.82        65\n",
      "weighted avg       0.85      0.85      0.84        65\n",
      "\n"
     ]
    }
   ],
   "source": [
    "print(classification_report(y_test,pred))"
   ]
  },
  {
   "cell_type": "code",
   "execution_count": 124,
   "id": "67a6f471",
   "metadata": {},
   "outputs": [
    {
     "name": "stdout",
     "output_type": "stream",
     "text": [
      "[[15  8]\n",
      " [ 2 40]]\n"
     ]
    }
   ],
   "source": [
    "print(confusion_matrix(y_test,pred))"
   ]
  },
  {
   "cell_type": "code",
   "execution_count": 125,
   "id": "183485ff",
   "metadata": {},
   "outputs": [
    {
     "data": {
      "text/plain": [
       "<AxesSubplot:>"
      ]
     },
     "execution_count": 125,
     "metadata": {},
     "output_type": "execute_result"
    },
    {
     "data": {
      "image/png": "[encoded data removed]",
      "text/plain": [
       "<Figure size 432x288 with 2 Axes>"
      ]
     },
     "metadata": {
      "needs_background": "light"
     },
     "output_type": "display_data"
    }
   ],
   "source": [
    "sns.heatmap(confusion_matrix(y_test,pred),annot=True)"
   ]
  },
  {
   "cell_type": "code",
   "execution_count": 131,
   "id": "b15c6bbe",
   "metadata": {},
   "outputs": [
    {
     "name": "stdout",
     "output_type": "stream",
     "text": [
      "The accuracy of the model is 0.8461538461538461\n"
     ]
    }
   ],
   "source": [
    "print(f'The accuracy of the model is {accuracy_score(y_test,pred)}')"
   ]
  },
  {
   "cell_type": "code",
   "execution_count": null,
   "id": "e6fa0c09",
   "metadata": {},
   "outputs": [],
   "source": []
  }
 ],
 "metadata": {
  "kernelspec": {
   "display_name": "Python 3 (ipykernel)",
   "language": "python",
   "name": "python3"
  },
  "language_info": {
   "codemirror_mode": {
    "name": "ipython",
    "version": 3
   },
   "file_extension": ".py",
   "mimetype": "text/x-python",
   "name": "python",
   "nbconvert_exporter": "python",
   "pygments_lexer": "ipython3",
   "version": "3.10.0"
  }
 },
 "nbformat": 4,
 "nbformat_minor": 5
}
